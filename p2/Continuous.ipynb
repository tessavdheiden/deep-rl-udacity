{
 "cells": [
  {
   "cell_type": "markdown",
   "metadata": {},
   "source": [
    "## Import necessary files"
   ]
  },
  {
   "cell_type": "code",
   "execution_count": 1,
   "metadata": {},
   "outputs": [
    {
     "name": "stdout",
     "output_type": "stream",
     "text": [
      "0.4.0\n",
      "1.13.1\n",
      "1.15.3\n"
     ]
    }
   ],
   "source": [
    "import tensorflow as tf\n",
    "import torch\n",
    "import numpy as np\n",
    "import matplotlib.pyplot as plt\n",
    "from training.utils import get_var_name, training_session_unity, plot_multiple_sessions, get_root_dir\n",
    "\n",
    "print(torch.__version__)\n",
    "print(tf.__version__)\n",
    "print(np.__version__)"
   ]
  },
  {
   "cell_type": "markdown",
   "metadata": {},
   "source": [
    "## Import classes containing algorithm and model "
   ]
  },
  {
   "cell_type": "code",
   "execution_count": 2,
   "metadata": {},
   "outputs": [],
   "source": [
    "from unityagents import UnityEnvironment\n",
    "from models.ddpg_agent import Agent, SoftAgent\n",
    "from models.a2c_agent import ACAgent\n",
    "from training.ddpg import ddpg\n",
    "from training.a2c import a2c"
   ]
  },
  {
   "cell_type": "code",
   "execution_count": 3,
   "metadata": {},
   "outputs": [],
   "source": [
    "## Load environment"
   ]
  },
  {
   "cell_type": "code",
   "execution_count": 4,
   "metadata": {},
   "outputs": [
    {
     "name": "stderr",
     "output_type": "stream",
     "text": [
      "INFO:unityagents:\n",
      "'Academy' started successfully!\n",
      "Unity Academy name: Academy\n",
      "        Number of Brains: 1\n",
      "        Number of External Brains : 1\n",
      "        Lesson number : 0\n",
      "        Reset Parameters :\n",
      "\t\tgoal_size -> 5.0\n",
      "\t\tgoal_speed -> 1.0\n",
      "Unity brain name: ReacherBrain\n",
      "        Number of Visual Observations (per agent): 0\n",
      "        Vector Observation space type: continuous\n",
      "        Vector Observation space size (per agent): 33\n",
      "        Number of stacked Vector Observation: 1\n",
      "        Vector Action space type: continuous\n",
      "        Vector Action space size (per agent): 4\n",
      "        Vector Action descriptions: , , , \n"
     ]
    }
   ],
   "source": [
    "env = UnityEnvironment(file_name=\"Reacher_Linux_multi/Reacher_Linux/Reacher.x86_64\", no_graphics = True)\n",
    "seed=0\n",
    "\n",
    "# get the default brain\n",
    "brain_name = env.brain_names[0]\n",
    "brain = env.brains[brain_name]\n",
    "\n",
    "train_mode = True\n",
    "action_size = brain.vector_action_space_size\n",
    "env_info = env.reset(train_mode=train_mode)[brain_name] # reset the environment\n",
    "state = env_info.vector_observations[0]\n",
    "state_size = len(state)\n",
    "num_agents = len(env_info.agents)"
   ]
  },
  {
   "cell_type": "markdown",
   "metadata": {},
   "source": [
    "## Settings and model selection"
   ]
  },
  {
   "cell_type": "code",
   "execution_count": 7,
   "metadata": {},
   "outputs": [],
   "source": [
    "n_episodes = 500\n",
    "max_t = 1000\n",
    "n_training_sessions = 1\n",
    "model_type = 'ddpg'"
   ]
  },
  {
   "cell_type": "markdown",
   "metadata": {},
   "source": [
    "## Train and plot the scores"
   ]
  },
  {
   "cell_type": "code",
   "execution_count": null,
   "metadata": {},
   "outputs": [
    {
     "name": "stdout",
     "output_type": "stream",
     "text": [
      "Episode 1\tTotal Average Score: 0.15\tMean: 0.15\tMin: 0.00\tMax: 0.76\tDuration: 5.04\n",
      "Episode 2\tTotal Average Score: 0.45\tMean: 0.75\tMin: 0.00\tMax: 1.97\tDuration: 5.08\n",
      "Episode 3\tTotal Average Score: 0.51\tMean: 0.64\tMin: 0.00\tMax: 2.23\tDuration: 5.17\n",
      "Episode 4\tTotal Average Score: 0.44\tMean: 0.23\tMin: 0.00\tMax: 1.27\tDuration: 5.15\n",
      "Episode 5\tTotal Average Score: 0.39\tMean: 0.15\tMin: 0.00\tMax: 1.37\tDuration: 5.31\n",
      "Episode 6\tTotal Average Score: 0.42\tMean: 0.61\tMin: 0.00\tMax: 1.33\tDuration: 5.40\n",
      "Episode 7\tTotal Average Score: 0.39\tMean: 0.20\tMin: 0.00\tMax: 0.66\tDuration: 5.32\n",
      "Episode 8\tTotal Average Score: 0.48\tMean: 1.07\tMin: 0.16\tMax: 2.44\tDuration: 5.91\n",
      "Episode 9\tTotal Average Score: 0.54\tMean: 1.05\tMin: 0.16\tMax: 2.04\tDuration: 5.67\n",
      "Episode 10\tTotal Average Score: 0.56\tMean: 0.77\tMin: 0.00\tMax: 1.82\tDuration: 6.00\n",
      "Episode 10\tTotal Average Score: 0.56\n",
      "Episode 11\tTotal Average Score: 0.56\tMean: 0.48\tMin: 0.00\tMax: 2.07\tDuration: 5.84\n",
      "Episode 12\tTotal Average Score: 0.61\tMean: 1.19\tMin: 0.12\tMax: 2.34\tDuration: 5.70\n",
      "Episode 13\tTotal Average Score: 0.64\tMean: 1.01\tMin: 0.00\tMax: 2.06\tDuration: 6.16\n",
      "Episode 14\tTotal Average Score: 0.67\tMean: 1.03\tMin: 0.12\tMax: 3.33\tDuration: 6.08\n",
      "Episode 15\tTotal Average Score: 0.70\tMean: 1.09\tMin: 0.03\tMax: 1.89\tDuration: 6.08\n",
      "Episode 16\tTotal Average Score: 0.75\tMean: 1.53\tMin: 0.52\tMax: 3.00\tDuration: 6.42\n",
      "Episode 17\tTotal Average Score: 0.79\tMean: 1.54\tMin: 0.40\tMax: 2.84\tDuration: 6.15\n",
      "Episode 18\tTotal Average Score: 0.85\tMean: 1.84\tMin: 0.21\tMax: 4.17\tDuration: 6.17\n",
      "Episode 19\tTotal Average Score: 0.92\tMean: 2.16\tMin: 1.06\tMax: 4.19\tDuration: 6.06\n",
      "Episode 20\tTotal Average Score: 0.98\tMean: 2.15\tMin: 0.49\tMax: 4.28\tDuration: 6.10\n",
      "Episode 20\tTotal Average Score: 0.98\n",
      "Episode 21\tTotal Average Score: 1.03\tMean: 2.03\tMin: 0.41\tMax: 3.10\tDuration: 6.19\n",
      "Episode 22\tTotal Average Score: 1.09\tMean: 2.29\tMin: 0.70\tMax: 3.88\tDuration: 6.20\n",
      "Episode 23\tTotal Average Score: 1.15\tMean: 2.55\tMin: 0.41\tMax: 4.00\tDuration: 6.80\n",
      "Episode 24\tTotal Average Score: 1.22\tMean: 2.85\tMin: 0.66\tMax: 6.25\tDuration: 6.89\n",
      "Episode 25\tTotal Average Score: 1.30\tMean: 3.12\tMin: 1.66\tMax: 5.86\tDuration: 6.57\n",
      "Episode 26\tTotal Average Score: 1.39\tMean: 3.59\tMin: 1.70\tMax: 5.47\tDuration: 6.59\n",
      "Episode 27\tTotal Average Score: 1.48\tMean: 3.92\tMin: 2.42\tMax: 7.15\tDuration: 6.51\n",
      "Episode 28\tTotal Average Score: 1.57\tMean: 3.92\tMin: 2.78\tMax: 6.76\tDuration: 6.56\n",
      "Episode 29\tTotal Average Score: 1.64\tMean: 3.70\tMin: 1.95\tMax: 6.05\tDuration: 6.74\n",
      "Episode 30\tTotal Average Score: 1.71\tMean: 3.73\tMin: 1.72\tMax: 6.21\tDuration: 6.96\n",
      "Episode 30\tTotal Average Score: 1.71\n",
      "Episode 31\tTotal Average Score: 1.79\tMean: 4.11\tMin: 2.67\tMax: 7.32\tDuration: 6.97\n",
      "Episode 32\tTotal Average Score: 1.88\tMean: 4.55\tMin: 2.18\tMax: 7.97\tDuration: 6.93\n",
      "Episode 33\tTotal Average Score: 1.94\tMean: 4.09\tMin: 2.19\tMax: 6.70\tDuration: 7.07\n",
      "Episode 34\tTotal Average Score: 2.02\tMean: 4.51\tMin: 1.22\tMax: 6.63\tDuration: 7.22\n",
      "Episode 35\tTotal Average Score: 2.09\tMean: 4.39\tMin: 2.61\tMax: 6.47\tDuration: 7.13\n",
      "Episode 36\tTotal Average Score: 2.17\tMean: 4.93\tMin: 3.25\tMax: 7.24\tDuration: 8.21\n",
      "Episode 37\tTotal Average Score: 2.22\tMean: 4.13\tMin: 0.93\tMax: 8.69\tDuration: 8.07\n",
      "Episode 38\tTotal Average Score: 2.28\tMean: 4.49\tMin: 1.93\tMax: 8.41\tDuration: 7.98\n",
      "Episode 39\tTotal Average Score: 2.36\tMean: 5.42\tMin: 3.11\tMax: 7.68\tDuration: 8.31\n",
      "Episode 40\tTotal Average Score: 2.41\tMean: 4.56\tMin: 1.67\tMax: 8.03\tDuration: 8.25\n",
      "Episode 40\tTotal Average Score: 2.41\n",
      "Episode 41\tTotal Average Score: 2.48\tMean: 5.03\tMin: 1.78\tMax: 10.73\tDuration: 8.35\n",
      "Episode 42\tTotal Average Score: 2.54\tMean: 5.18\tMin: 1.72\tMax: 9.30\tDuration: 9.42\n",
      "Episode 43\tTotal Average Score: 2.61\tMean: 5.54\tMin: 1.58\tMax: 10.07\tDuration: 9.25\n",
      "Episode 44\tTotal Average Score: 2.68\tMean: 5.49\tMin: 0.82\tMax: 9.92\tDuration: 9.16\n",
      "Episode 45\tTotal Average Score: 2.75\tMean: 6.06\tMin: 1.77\tMax: 10.23\tDuration: 9.88\n",
      "Episode 46\tTotal Average Score: 2.80\tMean: 4.93\tMin: 1.59\tMax: 8.29\tDuration: 9.35\n",
      "Episode 47\tTotal Average Score: 2.84\tMean: 4.62\tMin: 2.35\tMax: 6.23\tDuration: 8.66\n",
      "Episode 48\tTotal Average Score: 2.88\tMean: 4.75\tMin: 0.43\tMax: 9.08\tDuration: 8.20\n",
      "Episode 49\tTotal Average Score: 2.93\tMean: 5.18\tMin: 2.32\tMax: 8.24\tDuration: 8.10\n",
      "Episode 50\tTotal Average Score: 2.96\tMean: 4.75\tMin: 3.09\tMax: 6.75\tDuration: 8.06\n",
      "Episode 50\tTotal Average Score: 2.96\n",
      "Episode 51\tTotal Average Score: 3.02\tMean: 5.73\tMin: 1.90\tMax: 11.01\tDuration: 8.04\n",
      "Episode 52\tTotal Average Score: 3.07\tMean: 5.96\tMin: 2.98\tMax: 9.97\tDuration: 8.10\n",
      "Episode 53\tTotal Average Score: 3.14\tMean: 6.88\tMin: 4.30\tMax: 9.87\tDuration: 8.32\n",
      "Episode 54\tTotal Average Score: 3.21\tMean: 6.53\tMin: 3.04\tMax: 9.32\tDuration: 8.18\n",
      "Episode 55\tTotal Average Score: 3.27\tMean: 6.61\tMin: 3.17\tMax: 11.33\tDuration: 8.14\n",
      "Episode 56\tTotal Average Score: 3.34\tMean: 7.06\tMin: 5.37\tMax: 9.54\tDuration: 8.74\n",
      "Episode 57\tTotal Average Score: 3.37\tMean: 5.25\tMin: 2.55\tMax: 8.60\tDuration: 8.16\n",
      "Episode 58\tTotal Average Score: 3.42\tMean: 6.48\tMin: 3.69\tMax: 11.37\tDuration: 8.08\n",
      "Episode 59\tTotal Average Score: 3.47\tMean: 6.26\tMin: 3.30\tMax: 9.55\tDuration: 8.32\n",
      "Episode 60\tTotal Average Score: 3.53\tMean: 7.08\tMin: 4.94\tMax: 9.88\tDuration: 8.10\n",
      "Episode 60\tTotal Average Score: 3.53\n",
      "Episode 61\tTotal Average Score: 3.60\tMean: 7.47\tMin: 4.42\tMax: 17.23\tDuration: 8.20\n",
      "Episode 62\tTotal Average Score: 3.65\tMean: 6.77\tMin: 3.91\tMax: 9.85\tDuration: 8.55\n",
      "Episode 63\tTotal Average Score: 3.69\tMean: 6.63\tMin: 3.57\tMax: 9.56\tDuration: 8.05\n",
      "Episode 64\tTotal Average Score: 3.75\tMean: 7.34\tMin: 4.11\tMax: 10.67\tDuration: 8.48\n",
      "Episode 65\tTotal Average Score: 3.80\tMean: 7.18\tMin: 2.45\tMax: 11.03\tDuration: 8.85\n",
      "Episode 66\tTotal Average Score: 3.86\tMean: 7.15\tMin: 4.56\tMax: 11.35\tDuration: 8.34\n",
      "Episode 67\tTotal Average Score: 3.91\tMean: 7.59\tMin: 3.50\tMax: 9.57\tDuration: 8.14\n",
      "Episode 68\tTotal Average Score: 3.95\tMean: 6.55\tMin: 4.50\tMax: 9.00\tDuration: 8.32\n",
      "Episode 69\tTotal Average Score: 4.01\tMean: 8.22\tMin: 4.58\tMax: 10.42\tDuration: 8.33\n",
      "Episode 70\tTotal Average Score: 4.06\tMean: 7.13\tMin: 4.83\tMax: 11.12\tDuration: 8.39\n",
      "Episode 70\tTotal Average Score: 4.06\n",
      "Episode 71\tTotal Average Score: 4.12\tMean: 8.73\tMin: 4.68\tMax: 11.47\tDuration: 8.09\n",
      "Episode 72\tTotal Average Score: 4.18\tMean: 8.65\tMin: 2.67\tMax: 12.14\tDuration: 8.06\n",
      "Episode 73\tTotal Average Score: 4.23\tMean: 7.81\tMin: 4.78\tMax: 10.28\tDuration: 8.27\n",
      "Episode 74\tTotal Average Score: 4.29\tMean: 8.48\tMin: 5.48\tMax: 11.90\tDuration: 8.16\n",
      "Episode 75\tTotal Average Score: 4.36\tMean: 9.03\tMin: 4.55\tMax: 14.89\tDuration: 8.09\n",
      "Episode 76\tTotal Average Score: 4.43\tMean: 9.89\tMin: 6.22\tMax: 12.49\tDuration: 8.12\n",
      "Episode 77\tTotal Average Score: 4.49\tMean: 9.44\tMin: 6.37\tMax: 13.69\tDuration: 8.14\n",
      "Episode 78\tTotal Average Score: 4.56\tMean: 10.08\tMin: 7.62\tMax: 13.21\tDuration: 9.18\n",
      "Episode 79\tTotal Average Score: 4.63\tMean: 9.65\tMin: 6.43\tMax: 13.18\tDuration: 9.49\n",
      "Episode 80\tTotal Average Score: 4.70\tMean: 10.12\tMin: 5.38\tMax: 20.00\tDuration: 9.68\n",
      "Episode 80\tTotal Average Score: 4.70\n",
      "Episode 81\tTotal Average Score: 4.77\tMean: 10.95\tMin: 4.75\tMax: 15.85\tDuration: 9.57\n",
      "Episode 82\tTotal Average Score: 4.86\tMean: 11.65\tMin: 6.88\tMax: 15.81\tDuration: 9.64\n",
      "Episode 83\tTotal Average Score: 4.92\tMean: 10.20\tMin: 5.21\tMax: 15.32\tDuration: 9.50\n",
      "Episode 84\tTotal Average Score: 5.00\tMean: 11.23\tMin: 7.08\tMax: 15.64\tDuration: 9.53\n",
      "Episode 85\tTotal Average Score: 5.08\tMean: 11.88\tMin: 9.39\tMax: 16.92\tDuration: 9.57\n"
     ]
    }
   ],
   "source": [
    "fig = plt.figure()\n",
    "ax = fig.add_subplot(111)\n",
    "if model_type == 'ddpg':\n",
    "    ddpg_agent = Agent(state_size, action_size, seed)\n",
    "    scores_vanilla_x, scores_vanilla_mean, scores_vanilla_std, scores_vanilla_y = training_session_unity(ddpg,\n",
    "                                                                                                         ddpg_agent,\n",
    "                                                                                                         env,\n",
    "                                                                                                         brain_name,\n",
    "                                                                                                         env_info,\n",
    "                                                                                                         get_var_name(\n",
    "                                                                                                             ddpg),\n",
    "                                                                                                         n_episodes,\n",
    "                                                                                                         max_t)\n",
    "    plot_multiple_sessions(scores_vanilla_x, scores_vanilla_mean, scores_vanilla_std, label=get_var_name(ddpg),\n",
    "                           color='gray')\n",
    "    plt.plot(np.arange(len(scores_vanilla_y)), scores_vanilla_y, alpha=.1)\n",
    "elif model_type == 'a2c':\n",
    "    a2c_agent = ACAgent(state_size, action_size, seed, num_agents, rollout_length=5,lr=1e-4,lr_decay=.95,gamma=.95,value_loss_weight=1,gradient_clip=5)\n",
    "    scores_a2c_x, scores_a2c_mean, scores_a2c_std, scores_a2c_y = training_session_unity(a2c, a2c_agent, env, brain_name, env_info, get_var_name(ddpg), n_episodes, max_t)\n",
    "    plot_multiple_sessions(scores_a2c_x, scores_a2c_mean, scores_a2c_std, label=get_var_name(a2c), color='blue')\n",
    "    plt.plot(np.arange(len(scores_a2c_y)), scores_a2c_y, alpha=.1)\n",
    "\n",
    "plt.legend()\n",
    "plt.ylabel('Score')\n",
    "plt.xlabel('Episode #')\n",
    "plt.savefig(get_root_dir() + '/unity_environment_model_{}_batch_size_128.png'.format(model_type))\n",
    "plt.show()"
   ]
  },
  {
   "cell_type": "markdown",
   "metadata": {},
   "source": [
    "## Training session\n",
    "\n",
    "We can call the method training session with an algorithm of our choice."
   ]
  },
  {
   "cell_type": "code",
   "execution_count": null,
   "metadata": {},
   "outputs": [],
   "source": [
    "def training_session_unity(algorithm, agent, env, brain_name, env_info, model_name, n_episodes, max_t, buckets=5):\n",
    "    num_agents = len(env_info.agents)\n",
    "    scores_y = np.asarray(algorithm(agent, env, num_agents, True, brain_name, model_name, n_episodes, max_t))\n",
    "    print(scores_y)\n",
    "    solved_episodes = len(scores_y)\n",
    "    bucket_size = solved_episodes // buckets\n",
    "    scores_mean = np.zeros(solved_episodes+1)\n",
    "    scores_std = np.zeros(solved_episodes+1)\n",
    "    scores_x = np.arange(buckets+1) * (solved_episodes // buckets)\n",
    "\n",
    "    for bucket in range(buckets):\n",
    "        start = bucket*bucket_size\n",
    "        end = start + bucket_size\n",
    "        scores_mean[bucket+1] = scores_y[start:end].mean(0)\n",
    "        scores_std[bucket+1] = scores_y[start:end].std(0)\n",
    "\n",
    "    return scores_x, scores_mean, scores_std, scores_y"
   ]
  },
  {
   "cell_type": "markdown",
   "metadata": {},
   "source": [
    "## Algorithms\n",
    "\n",
    "The current implemented algorithms are A2C and DDPG. The difference is that the A2C algorithm also requires to store the probabilities for the actor and state values for the critic network. "
   ]
  },
  {
   "cell_type": "code",
   "execution_count": 5,
   "metadata": {},
   "outputs": [],
   "source": [
    "def a2c(agent, env, num_agents, train_mode, brain_name, model_name, n_episodes=2000, max_t=1000, print_every=10, learn_every=20, num_learn=10, goal_score=30, rollout_length=5):\n",
    "    total_scores_deque = deque(maxlen=100)\n",
    "    total_scores = []\n",
    "\n",
    "    for i_episode in range(1, n_episodes + 1):\n",
    "        # Reset Env and Agent\n",
    "        env_info = env.reset(train_mode=train_mode)[brain_name]  # reset the environment\n",
    "        states = env_info.vector_observations  # get the current state (for each agent)\n",
    "        scores = np.zeros(num_agents)  # initialize the score (for each agent)\n",
    "        #agent.reset()\n",
    "\n",
    "        start_time = time.time()\n",
    "        steps_taken = 0\n",
    "        for t in range(max_t):\n",
    "            steps_taken +=1\n",
    "            actions, log_probs, state_values = agent.act(states)      # select actions for 20 envs\n",
    "            env_inst = env.step(actions)[brain_name]     # send the actions to the environment\n",
    "            next_states = env_inst.vector_observations                          # get the next states\n",
    "            rewards = env_inst.rewards                                          # get the rewards\n",
    "            dones = env_inst.local_done                                         # see if episode has finished\n",
    "            not_dones = [1-done for done in dones]        \n",
    "\n",
    "            for state, action, reward, next_state, not_done, log_prob, state_value in zip(states, actions, rewards, next_states, not_dones, log_probs, state_values):\n",
    "                agent.step(state, action, reward, next_state, not_done, log_prob, state_value)  # send actions to the agent\n"
   ]
  },
  {
   "cell_type": "code",
   "execution_count": 6,
   "metadata": {},
   "outputs": [],
   "source": [
    "def ddpg(agent, env, num_agents, train_mode, brain_name, model_name, n_episodes=2000, max_t=1000, print_every=10, learn_every=20, num_learn=10, goal_score=1):\n",
    "    total_scores_deque = deque(maxlen=100)\n",
    "    total_scores = []\n",
    "\n",
    "    for i_episode in range(1, n_episodes + 1):\n",
    "        # Reset Env and Agent\n",
    "        env_info = env.reset(train_mode=train_mode)[brain_name]  # reset the environment\n",
    "        states = env_info.vector_observations  # get the current state (for each agent)\n",
    "        scores = np.zeros(num_agents)  # initialize the score (for each agent)\n",
    "        agent.reset()\n",
    "\n",
    "        start_time = time.time()\n",
    "\n",
    "        for t in range(max_t):\n",
    "            actions = agent.act(states)\n",
    "\n",
    "            env_info = env.step(actions)[brain_name]  # send all actions to the environment\n",
    "            next_states = env_info.vector_observations  # get next state (for each agent)\n",
    "            rewards = env_info.rewards  # get reward (for each agent)\n",
    "\n",
    "            dones = env_info.local_done  # see if episode finished\n",
    "\n",
    "            for state, action, reward, next_state, done in zip(states, actions, rewards, next_states, dones):\n",
    "                agent.step(state, action, reward, next_state, done)  # send actions to the agent\n",
    "\n",
    "            scores += env_info.rewards  # update the score (for each agent)\n",
    "            states = next_states  # roll over states to next time step\n",
    "\n",
    "            if t % learn_every == 0:\n",
    "                for _ in range(num_learn):\n",
    "                    agent.start_learn()\n",
    "\n",
    "            if np.any(dones):  # exit loop if episode finished\n",
    "                break\n",
    "\n"
   ]
  },
  {
   "cell_type": "code",
   "execution_count": null,
   "metadata": {},
   "outputs": [],
   "source": []
  },
  {
   "cell_type": "code",
   "execution_count": null,
   "metadata": {},
   "outputs": [],
   "source": []
  }
 ],
 "metadata": {
  "kernelspec": {
   "display_name": "Python 3",
   "language": "python",
   "name": "python3"
  },
  "language_info": {
   "codemirror_mode": {
    "name": "ipython",
    "version": 3
   },
   "file_extension": ".py",
   "mimetype": "text/x-python",
   "name": "python",
   "nbconvert_exporter": "python",
   "pygments_lexer": "ipython3",
   "version": "3.6.6"
  }
 },
 "nbformat": 4,
 "nbformat_minor": 2
}
